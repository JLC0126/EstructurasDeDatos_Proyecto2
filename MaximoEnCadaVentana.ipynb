{
 "cells": [
  {
   "cell_type": "code",
   "execution_count": 27,
   "id": "51359626",
   "metadata": {},
   "outputs": [],
   "source": [
    "def maximo_cada_ventana(secuencia, ventana):\n",
    "    n = len(secuencia)\n",
    "    valor_maximo = []\n",
    "    valor_maximo_en_ventana = max(secuencia[:ventana])\n",
    "    valor_maximo.append(valor_maximo_en_ventana)\n",
    "    \n",
    "    for i in range(1, n - ventana + 1):\n",
    "        if secuencia[i-1] == valor_maximo_en_ventana:\n",
    "            valor_maximo_en_ventana = max(secuencia[i:i + ventana])\n",
    "        else:\n",
    "            valor_maximo_en_ventana = max(valor_maximo_en_ventana, secuencia[i + ventana -1])\n",
    "        valor_maximo.append(valor_maximo_en_ventana)\n",
    "        \n",
    "    return valor_maximo"
   ]
  },
  {
   "cell_type": "code",
   "execution_count": 28,
   "id": "9a0597f7",
   "metadata": {},
   "outputs": [
    {
     "name": "stdout",
     "output_type": "stream",
     "text": [
      "[3, 3, 5, 5, 6, 7]\n"
     ]
    }
   ],
   "source": [
    "secuencia = [1,3,-1,-3,5,3,6,7]\n",
    "ventana = 3\n",
    "\n",
    "resultado = maximo_cada_ventana(secuencia,ventana)\n",
    "print(resultado)"
   ]
  },
  {
   "cell_type": "code",
   "execution_count": null,
   "id": "2e502a63",
   "metadata": {},
   "outputs": [],
   "source": []
  }
 ],
 "metadata": {
  "kernelspec": {
   "display_name": "Python 3 (ipykernel)",
   "language": "python",
   "name": "python3"
  },
  "language_info": {
   "codemirror_mode": {
    "name": "ipython",
    "version": 3
   },
   "file_extension": ".py",
   "mimetype": "text/x-python",
   "name": "python",
   "nbconvert_exporter": "python",
   "pygments_lexer": "ipython3",
   "version": "3.9.16"
  }
 },
 "nbformat": 4,
 "nbformat_minor": 5
}
