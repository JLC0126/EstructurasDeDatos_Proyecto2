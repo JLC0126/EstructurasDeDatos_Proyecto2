{
 "cells": [
  {
   "cell_type": "markdown",
   "id": "43ef11c9",
   "metadata": {},
   "source": [
    "# Implementacio del algoritmo de la mochila "
   ]
  },
  {
   "cell_type": "code",
   "execution_count": 1,
   "id": "c3df4743",
   "metadata": {},
   "outputs": [],
   "source": [
    "def Mochila(pesos,valores,capacidad):\n",
    "    n = len(pesos)\n",
    "    solucion = [0]*n\n",
    "    valor_maximo = 0\n",
    "    \n",
    "    j=0\n",
    "    while j<n:\n",
    "        if capacidad == 0:\n",
    "            return (valor_maximo,solucion)\n",
    "        maxima_relacion = 0\n",
    "        indice_maximo = -1\n",
    "        \n",
    "        for i in range(n):\n",
    "            if pesos[i] > 0 and valores[i]/pesos[i] > maxima_relacion:\n",
    "                maxima_relacion = valores[i]/pesos[i]\n",
    "                indice_maximo = i\n",
    "                \n",
    "        a = min(pesos[indice_maximo], capacidad)\n",
    "        valor_maximo += a*(valores[indice_maximo]/pesos[indice_maximo])\n",
    "        pesos[indice_maximo] -= a\n",
    "        solucion[indice_maximo] += a\n",
    "        capacidad -= a\n",
    "        j += 1\n",
    "        \n",
    "    return (valor_maximo,solucion)"
   ]
  },
  {
   "cell_type": "markdown",
   "id": "01f0b323",
   "metadata": {},
   "source": [
    "### Ejemplos:"
   ]
  },
  {
   "cell_type": "code",
   "execution_count": 2,
   "id": "846712f3",
   "metadata": {},
   "outputs": [
    {
     "name": "stdout",
     "output_type": "stream",
     "text": [
      "Valor Maximo:  240.0\n",
      "Solucion:  [10, 20, 20]\n"
     ]
    }
   ],
   "source": [
    "pesos = [10,20,30]\n",
    "valores = [60, 100,120]\n",
    "capacidad = 50\n",
    "\n",
    "valor_maximo, solucion = Mochila(pesos, valores, capacidad)\n",
    "\n",
    "print(\"Valor Maximo: \", valor_maximo)\n",
    "print(\"Solucion: \", solucion)"
   ]
  },
  {
   "cell_type": "markdown",
   "id": "a3b62733",
   "metadata": {},
   "source": [
    "# Modificando el algoritmo de la mochila "
   ]
  },
  {
   "cell_type": "code",
   "execution_count": 3,
   "id": "c54b4949",
   "metadata": {},
   "outputs": [],
   "source": [
    "def procesamiento_paquetes(S, n, llegadas, procesamientos):\n",
    "    tiempos_inicio = []\n",
    "    fin_bufer = 0\n",
    "    cola = []"
   ]
  },
  {
   "cell_type": "code",
   "execution_count": null,
   "id": "43c4a1d1",
   "metadata": {},
   "outputs": [],
   "source": []
  }
 ],
 "metadata": {
  "kernelspec": {
   "display_name": "Python 3 (ipykernel)",
   "language": "python",
   "name": "python3"
  },
  "language_info": {
   "codemirror_mode": {
    "name": "ipython",
    "version": 3
   },
   "file_extension": ".py",
   "mimetype": "text/x-python",
   "name": "python",
   "nbconvert_exporter": "python",
   "pygments_lexer": "ipython3",
   "version": "3.9.16"
  }
 },
 "nbformat": 4,
 "nbformat_minor": 5
}
