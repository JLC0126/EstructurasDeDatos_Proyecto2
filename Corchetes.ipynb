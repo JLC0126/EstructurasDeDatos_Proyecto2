{
 "cells": [
  {
   "cell_type": "code",
   "execution_count": 1,
   "id": "6528a5b6",
   "metadata": {},
   "outputs": [],
   "source": [
    "def is_balanceado(s):\n",
    "    pila = []\n",
    "    \n",
    "    for i,c in enumerate(s):\n",
    "        if c in \"([\":\n",
    "            pila.append((c,i))\n",
    "        elif c in \")]\":\n",
    "            if not pila:\n",
    "                return i+1\n",
    "            ultimo, j = pila.pop()\n",
    "            if(ultimo == \"[\" and c != \"]\") or (ultimo == \"(\" and c != \")\"):\n",
    "                return j + 1\n",
    "    if pila:\n",
    "        _, i = pila.pop()\n",
    "        return i + 1 \n",
    "    return \"Exito\""
   ]
  },
  {
   "cell_type": "code",
   "execution_count": 2,
   "id": "29268237",
   "metadata": {},
   "outputs": [
    {
     "name": "stdout",
     "output_type": "stream",
     "text": [
      "Exito\n"
     ]
    }
   ],
   "source": [
    "S = \"(abc(d[e[]]))\"\n",
    "resultado = is_balanceado(S)\n",
    "print(resultado)"
   ]
  },
  {
   "cell_type": "code",
   "execution_count": 4,
   "id": "c785ce08",
   "metadata": {},
   "outputs": [
    {
     "name": "stdout",
     "output_type": "stream",
     "text": [
      "7\n"
     ]
    }
   ],
   "source": [
    "S = \"(abcd([e[]))\"\n",
    "resultado = is_balanceado(S)\n",
    "print(resultado)"
   ]
  },
  {
   "cell_type": "code",
   "execution_count": null,
   "id": "978a42ce",
   "metadata": {},
   "outputs": [],
   "source": []
  }
 ],
 "metadata": {
  "kernelspec": {
   "display_name": "Python 3 (ipykernel)",
   "language": "python",
   "name": "python3"
  },
  "language_info": {
   "codemirror_mode": {
    "name": "ipython",
    "version": 3
   },
   "file_extension": ".py",
   "mimetype": "text/x-python",
   "name": "python",
   "nbconvert_exporter": "python",
   "pygments_lexer": "ipython3",
   "version": "3.9.16"
  }
 },
 "nbformat": 4,
 "nbformat_minor": 5
}
