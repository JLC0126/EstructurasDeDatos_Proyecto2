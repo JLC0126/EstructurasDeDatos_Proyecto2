{
 "cells": [
  {
   "cell_type": "code",
   "execution_count": 4,
   "id": "2bf7d2d9",
   "metadata": {},
   "outputs": [],
   "source": [
    "class Nodo:\n",
    "    def __init__(self, data):\n",
    "        self.data = data\n",
    "        self.next = 0\n"
   ]
  },
  {
   "cell_type": "markdown",
   "id": "a8697647",
   "metadata": {},
   "source": [
    "## Lista"
   ]
  },
  {
   "cell_type": "code",
   "execution_count": 5,
   "id": "6f2a3edd",
   "metadata": {},
   "outputs": [
    {
     "name": "stdout",
     "output_type": "stream",
     "text": [
      "1 2 3 \n",
      "1 2 3 4 5 \n",
      "2 3 4 \n",
      "Primero: 2\n",
      "Ultimo: 4\n",
      "Tamaño: 3\n"
     ]
    }
   ],
   "source": [
    "\n",
    "class Lista:\n",
    "    def __init__(self):\n",
    "        self.head = 0\n",
    "        self.size = 0\n",
    "\n",
    "    def push_front(self, value):\n",
    "        new_nodo = Nodo(value)\n",
    "        new_nodo.next = self.head\n",
    "        self.head = new_nodo\n",
    "        self.size += 1\n",
    "\n",
    "    def push_back(self, value):\n",
    "        new_nodo = Nodo(value)\n",
    "        if not self.head:\n",
    "            self.head = new_nodo\n",
    "        else:\n",
    "            p = self.head\n",
    "            while p.next:\n",
    "                p = p.next\n",
    "            p.next = new_nodo\n",
    "        self.size += 1\n",
    "\n",
    "    def pop_front(self):\n",
    "        if self.head:\n",
    "            tmp = self.head\n",
    "            self.head = self.head.next\n",
    "            del tmp\n",
    "            self.size -= 1\n",
    "\n",
    "    def pop_back(self):\n",
    "        if self.head:\n",
    "            if not self.head.next:\n",
    "                del self.head\n",
    "                self.head = 0\n",
    "            else:\n",
    "                p = self.head\n",
    "                while p.next.next:\n",
    "                    p = p.next\n",
    "                del p.next\n",
    "                p.next = 0\n",
    "            self.size -= 1\n",
    "\n",
    "    def front(self):\n",
    "        if self.head:\n",
    "            return self.head.data\n",
    "        else:\n",
    "            raise RuntimeError(\"La lista esta vacia\")\n",
    "\n",
    "    def back(self):\n",
    "        if self.head:\n",
    "            p = self.head\n",
    "            while p.next:\n",
    "                p = p.next\n",
    "            return p.data\n",
    "        else:\n",
    "            raise RuntimeError(\"La lista esta vacia\")\n",
    "\n",
    "    def get_size(self):\n",
    "        return self.size\n",
    "\n",
    "    def print_list(self):\n",
    "        p = self.head\n",
    "        while p:\n",
    "            print(p.data, end=\" \")\n",
    "            p = p.next\n",
    "        print()\n",
    "\n",
    "L = Lista()\n",
    "\n",
    "L.push_front(3)\n",
    "L.push_front(2)\n",
    "L.push_front(1)\n",
    "\n",
    "L.print_list() # Salida: 1 2 3\n",
    "\n",
    "L.push_back(4)\n",
    "L.push_back(5)\n",
    "\n",
    "L.print_list() # Salida: 1 2 3 4 5\n",
    "\n",
    "L.pop_front()\n",
    "L.pop_back()\n",
    "\n",
    "L.print_list() # Salida: 2 3 4\n",
    "\n",
    "print(\"Primero:\", L.front()) #Salida: 2\n",
    "print(\"Ultimo:\", L.back()) # Salida: 4\n",
    "print(\"Tamaño:\", L.get_size()) # Salida: 3\n"
   ]
  },
  {
   "cell_type": "markdown",
   "id": "9cb41345",
   "metadata": {},
   "source": [
    "## Pila"
   ]
  },
  {
   "cell_type": "code",
   "execution_count": 6,
   "id": "a183fc92",
   "metadata": {},
   "outputs": [],
   "source": [
    "class Pila:\n",
    "    def __init__(self):\n",
    "        self.Lista = Lista()\n",
    "        \n",
    "    def push(self,valor):\n",
    "        self.Lista.pushfront(valor)\n",
    "        \n",
    "    def is_empty(self):\n",
    "        return self.Lista.size() == 0\n",
    "        \n",
    "    def pop(self):\n",
    "        if self.is_empty():\n",
    "            return 0\n",
    "        valor = self.Lista."
   ]
  },
  {
   "cell_type": "code",
   "execution_count": null,
   "id": "5be2e3a3",
   "metadata": {},
   "outputs": [],
   "source": []
  }
 ],
 "metadata": {
  "kernelspec": {
   "display_name": "Python 3 (ipykernel)",
   "language": "python",
   "name": "python3"
  },
  "language_info": {
   "codemirror_mode": {
    "name": "ipython",
    "version": 3
   },
   "file_extension": ".py",
   "mimetype": "text/x-python",
   "name": "python",
   "nbconvert_exporter": "python",
   "pygments_lexer": "ipython3",
   "version": "3.9.16"
  }
 },
 "nbformat": 4,
 "nbformat_minor": 5
}
